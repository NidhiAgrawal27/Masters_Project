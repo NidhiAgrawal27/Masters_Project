{
 "cells": [
  {
   "cell_type": "code",
   "execution_count": 19,
   "metadata": {},
   "outputs": [],
   "source": [
    "import pandas as pd\n",
    "import numpy as np\n",
    "from typing import Counter"
   ]
  },
  {
   "cell_type": "code",
   "execution_count": 20,
   "metadata": {},
   "outputs": [],
   "source": [
    "processed_data=pd.read_csv(\"/Users/nidhiagrawal/Desktop/Assignments/MastersProject/Github/Masters_Project/IoTa/logs/generated_files/processed_data.csv\")\n",
    "addresses_data=pd.read_csv(\"/Users/nidhiagrawal/Desktop/Assignments/MastersProject/Github/Masters_Project/IoTa/logs/generated_files/unique_addresses.csv\")"
   ]
  },
  {
   "cell_type": "code",
   "execution_count": 21,
   "metadata": {},
   "outputs": [
    {
     "data": {
      "text/html": [
       "<div>\n",
       "<style scoped>\n",
       "    .dataframe tbody tr th:only-of-type {\n",
       "        vertical-align: middle;\n",
       "    }\n",
       "\n",
       "    .dataframe tbody tr th {\n",
       "        vertical-align: top;\n",
       "    }\n",
       "\n",
       "    .dataframe thead th {\n",
       "        text-align: right;\n",
       "    }\n",
       "</style>\n",
       "<table border=\"1\" class=\"dataframe\">\n",
       "  <thead>\n",
       "    <tr style=\"text-align: right;\">\n",
       "      <th></th>\n",
       "      <th>transaction_id</th>\n",
       "      <th>input_addresses_x</th>\n",
       "      <th>input_amounts_x</th>\n",
       "      <th>output_addresses_y</th>\n",
       "      <th>output_amounts_y</th>\n",
       "      <th>datetime</th>\n",
       "      <th>num_input_addresses</th>\n",
       "      <th>num_output_addresses</th>\n",
       "      <th>sum_input_amounts</th>\n",
       "      <th>sum_output_amounts</th>\n",
       "      <th>id_input_addresses_x</th>\n",
       "      <th>id_output_addresses_y</th>\n",
       "      <th>tx_unique_id</th>\n",
       "    </tr>\n",
       "  </thead>\n",
       "  <tbody>\n",
       "    <tr>\n",
       "      <th>0</th>\n",
       "      <td>0ec6a72cc70eaaf4f692a394287afec9749be074a90b5f...</td>\n",
       "      <td>['02b0ab655312f42e7bf52d84e6230ef425b3ac77e64d...</td>\n",
       "      <td>[1998896.0]</td>\n",
       "      <td>['02b0ab655312f42e7bf52d84e6230ef425b3ac77e64d...</td>\n",
       "      <td>[1998895, 1]</td>\n",
       "      <td>2021-05-04 18:10:29</td>\n",
       "      <td>1</td>\n",
       "      <td>2</td>\n",
       "      <td>1.998896e+06</td>\n",
       "      <td>1.998896e+06</td>\n",
       "      <td>[0]</td>\n",
       "      <td>[0, 1]</td>\n",
       "      <td>0</td>\n",
       "    </tr>\n",
       "    <tr>\n",
       "      <th>1</th>\n",
       "      <td>bd8c7523cdb25bcb5cec1928a9809352114d615f723a1c...</td>\n",
       "      <td>['02b0ab655312f42e7bf52d84e6230ef425b3ac77e64d...</td>\n",
       "      <td>[1996443.0]</td>\n",
       "      <td>['02b0ab655312f42e7bf52d84e6230ef425b3ac77e64d...</td>\n",
       "      <td>[1996442, 1]</td>\n",
       "      <td>2021-05-08 18:25:19</td>\n",
       "      <td>1</td>\n",
       "      <td>2</td>\n",
       "      <td>1.996443e+06</td>\n",
       "      <td>1.996443e+06</td>\n",
       "      <td>[0]</td>\n",
       "      <td>[0, 1]</td>\n",
       "      <td>1</td>\n",
       "    </tr>\n",
       "    <tr>\n",
       "      <th>2</th>\n",
       "      <td>1a7ef60419d3fbe22fa2fb2d73c9db8c571ce4f9fe393e...</td>\n",
       "      <td>['02b0ab655312f42e7bf52d84e6230ef425b3ac77e64d...</td>\n",
       "      <td>[1996418.0]</td>\n",
       "      <td>['02b0ab655312f42e7bf52d84e6230ef425b3ac77e64d...</td>\n",
       "      <td>[1996417, 1]</td>\n",
       "      <td>2021-05-08 18:33:49</td>\n",
       "      <td>1</td>\n",
       "      <td>2</td>\n",
       "      <td>1.996418e+06</td>\n",
       "      <td>1.996418e+06</td>\n",
       "      <td>[0]</td>\n",
       "      <td>[0, 1]</td>\n",
       "      <td>2</td>\n",
       "    </tr>\n",
       "    <tr>\n",
       "      <th>3</th>\n",
       "      <td>0ec32929c3422e6cd2f4cbf14875f438900e8848b6d1ff...</td>\n",
       "      <td>['8ca740d1e9fc980a4597f0b07ca973eb19001fb2888c...</td>\n",
       "      <td>[6845082772.0]</td>\n",
       "      <td>['1d5b9174eaf4ef0231958b30aee0e31279417b0be1c0...</td>\n",
       "      <td>[6000000000, 845082772]</td>\n",
       "      <td>2021-05-02 18:13:59</td>\n",
       "      <td>1</td>\n",
       "      <td>2</td>\n",
       "      <td>6.845083e+09</td>\n",
       "      <td>6.845083e+09</td>\n",
       "      <td>[2]</td>\n",
       "      <td>[3, 4]</td>\n",
       "      <td>3</td>\n",
       "    </tr>\n",
       "    <tr>\n",
       "      <th>4</th>\n",
       "      <td>d7ac224714bccd3e95bb63e9c847955be4bc58a079d4b9...</td>\n",
       "      <td>['50dd8cde25d109cceb064e8946b2fe32f7265b54b0c0...</td>\n",
       "      <td>[12000000.0]</td>\n",
       "      <td>['c521900df5c7e5fa25e5ebbb0d913f109e4dce438082...</td>\n",
       "      <td>[12000000]</td>\n",
       "      <td>2021-04-29 17:10:47</td>\n",
       "      <td>1</td>\n",
       "      <td>1</td>\n",
       "      <td>1.200000e+07</td>\n",
       "      <td>1.200000e+07</td>\n",
       "      <td>[5]</td>\n",
       "      <td>[6]</td>\n",
       "      <td>4</td>\n",
       "    </tr>\n",
       "  </tbody>\n",
       "</table>\n",
       "</div>"
      ],
      "text/plain": [
       "                                      transaction_id  \\\n",
       "0  0ec6a72cc70eaaf4f692a394287afec9749be074a90b5f...   \n",
       "1  bd8c7523cdb25bcb5cec1928a9809352114d615f723a1c...   \n",
       "2  1a7ef60419d3fbe22fa2fb2d73c9db8c571ce4f9fe393e...   \n",
       "3  0ec32929c3422e6cd2f4cbf14875f438900e8848b6d1ff...   \n",
       "4  d7ac224714bccd3e95bb63e9c847955be4bc58a079d4b9...   \n",
       "\n",
       "                                   input_addresses_x input_amounts_x  \\\n",
       "0  ['02b0ab655312f42e7bf52d84e6230ef425b3ac77e64d...     [1998896.0]   \n",
       "1  ['02b0ab655312f42e7bf52d84e6230ef425b3ac77e64d...     [1996443.0]   \n",
       "2  ['02b0ab655312f42e7bf52d84e6230ef425b3ac77e64d...     [1996418.0]   \n",
       "3  ['8ca740d1e9fc980a4597f0b07ca973eb19001fb2888c...  [6845082772.0]   \n",
       "4  ['50dd8cde25d109cceb064e8946b2fe32f7265b54b0c0...    [12000000.0]   \n",
       "\n",
       "                                  output_addresses_y         output_amounts_y  \\\n",
       "0  ['02b0ab655312f42e7bf52d84e6230ef425b3ac77e64d...             [1998895, 1]   \n",
       "1  ['02b0ab655312f42e7bf52d84e6230ef425b3ac77e64d...             [1996442, 1]   \n",
       "2  ['02b0ab655312f42e7bf52d84e6230ef425b3ac77e64d...             [1996417, 1]   \n",
       "3  ['1d5b9174eaf4ef0231958b30aee0e31279417b0be1c0...  [6000000000, 845082772]   \n",
       "4  ['c521900df5c7e5fa25e5ebbb0d913f109e4dce438082...               [12000000]   \n",
       "\n",
       "              datetime  num_input_addresses  num_output_addresses  \\\n",
       "0  2021-05-04 18:10:29                    1                     2   \n",
       "1  2021-05-08 18:25:19                    1                     2   \n",
       "2  2021-05-08 18:33:49                    1                     2   \n",
       "3  2021-05-02 18:13:59                    1                     2   \n",
       "4  2021-04-29 17:10:47                    1                     1   \n",
       "\n",
       "   sum_input_amounts  sum_output_amounts id_input_addresses_x  \\\n",
       "0       1.998896e+06        1.998896e+06                  [0]   \n",
       "1       1.996443e+06        1.996443e+06                  [0]   \n",
       "2       1.996418e+06        1.996418e+06                  [0]   \n",
       "3       6.845083e+09        6.845083e+09                  [2]   \n",
       "4       1.200000e+07        1.200000e+07                  [5]   \n",
       "\n",
       "  id_output_addresses_y  tx_unique_id  \n",
       "0                [0, 1]             0  \n",
       "1                [0, 1]             1  \n",
       "2                [0, 1]             2  \n",
       "3                [3, 4]             3  \n",
       "4                   [6]             4  "
      ]
     },
     "execution_count": 21,
     "metadata": {},
     "output_type": "execute_result"
    }
   ],
   "source": [
    "processed_data.head()"
   ]
  },
  {
   "cell_type": "code",
   "execution_count": 22,
   "metadata": {},
   "outputs": [
    {
     "name": "stdout",
     "output_type": "stream",
     "text": [
      "<class 'pandas.core.frame.DataFrame'>\n",
      "RangeIndex: 9057 entries, 0 to 9056\n",
      "Data columns (total 5 columns):\n",
      " #   Column                 Non-Null Count  Dtype \n",
      "---  ------                 --------------  ----- \n",
      " 0   tx_unique_id           9057 non-null   int64 \n",
      " 1   id_input_addresses_x   9057 non-null   object\n",
      " 2   id_output_addresses_y  9057 non-null   object\n",
      " 3   input_amounts_x        9057 non-null   object\n",
      " 4   output_amounts_y       9057 non-null   object\n",
      "dtypes: int64(1), object(4)\n",
      "memory usage: 353.9+ KB\n"
     ]
    }
   ],
   "source": [
    "processed_data=processed_data[[\"tx_unique_id\",\"id_input_addresses_x\",\"id_output_addresses_y\",\"input_amounts_x\",\"output_amounts_y\"]]\n",
    "processed_data.info()"
   ]
  },
  {
   "cell_type": "code",
   "execution_count": 23,
   "metadata": {},
   "outputs": [
    {
     "data": {
      "text/html": [
       "<div>\n",
       "<style scoped>\n",
       "    .dataframe tbody tr th:only-of-type {\n",
       "        vertical-align: middle;\n",
       "    }\n",
       "\n",
       "    .dataframe tbody tr th {\n",
       "        vertical-align: top;\n",
       "    }\n",
       "\n",
       "    .dataframe thead th {\n",
       "        text-align: right;\n",
       "    }\n",
       "</style>\n",
       "<table border=\"1\" class=\"dataframe\">\n",
       "  <thead>\n",
       "    <tr style=\"text-align: right;\">\n",
       "      <th></th>\n",
       "      <th>tx_unique_id</th>\n",
       "      <th>id_input_addresses_x</th>\n",
       "      <th>id_output_addresses_y</th>\n",
       "      <th>input_amounts_x</th>\n",
       "      <th>output_amounts_y</th>\n",
       "    </tr>\n",
       "  </thead>\n",
       "  <tbody>\n",
       "    <tr>\n",
       "      <th>0</th>\n",
       "      <td>0</td>\n",
       "      <td>[0]</td>\n",
       "      <td>[0, 1]</td>\n",
       "      <td>[1998896.0]</td>\n",
       "      <td>[1998895, 1]</td>\n",
       "    </tr>\n",
       "    <tr>\n",
       "      <th>1</th>\n",
       "      <td>1</td>\n",
       "      <td>[0]</td>\n",
       "      <td>[0, 1]</td>\n",
       "      <td>[1996443.0]</td>\n",
       "      <td>[1996442, 1]</td>\n",
       "    </tr>\n",
       "    <tr>\n",
       "      <th>2</th>\n",
       "      <td>2</td>\n",
       "      <td>[0]</td>\n",
       "      <td>[0, 1]</td>\n",
       "      <td>[1996418.0]</td>\n",
       "      <td>[1996417, 1]</td>\n",
       "    </tr>\n",
       "    <tr>\n",
       "      <th>3</th>\n",
       "      <td>3</td>\n",
       "      <td>[2]</td>\n",
       "      <td>[3, 4]</td>\n",
       "      <td>[6845082772.0]</td>\n",
       "      <td>[6000000000, 845082772]</td>\n",
       "    </tr>\n",
       "    <tr>\n",
       "      <th>4</th>\n",
       "      <td>4</td>\n",
       "      <td>[5]</td>\n",
       "      <td>[6]</td>\n",
       "      <td>[12000000.0]</td>\n",
       "      <td>[12000000]</td>\n",
       "    </tr>\n",
       "  </tbody>\n",
       "</table>\n",
       "</div>"
      ],
      "text/plain": [
       "   tx_unique_id id_input_addresses_x id_output_addresses_y input_amounts_x  \\\n",
       "0             0                  [0]                [0, 1]     [1998896.0]   \n",
       "1             1                  [0]                [0, 1]     [1996443.0]   \n",
       "2             2                  [0]                [0, 1]     [1996418.0]   \n",
       "3             3                  [2]                [3, 4]  [6845082772.0]   \n",
       "4             4                  [5]                   [6]    [12000000.0]   \n",
       "\n",
       "          output_amounts_y  \n",
       "0             [1998895, 1]  \n",
       "1             [1996442, 1]  \n",
       "2             [1996417, 1]  \n",
       "3  [6000000000, 845082772]  \n",
       "4               [12000000]  "
      ]
     },
     "execution_count": 23,
     "metadata": {},
     "output_type": "execute_result"
    }
   ],
   "source": [
    "processed_data.head()"
   ]
  },
  {
   "cell_type": "code",
   "execution_count": 24,
   "metadata": {},
   "outputs": [],
   "source": [
    "processed_data[\"id_input_addresses_x\"]=processed_data[\"id_input_addresses_x\"].apply(eval)\n",
    "processed_data[\"id_output_addresses_y\"]=processed_data[\"id_output_addresses_y\"].apply(eval)\n",
    "processed_data[\"input_amounts_x\"]=processed_data[\"input_amounts_x\"].apply(eval)\n",
    "processed_data[\"output_amounts_y\"]=processed_data[\"output_amounts_y\"].apply(eval)"
   ]
  },
  {
   "cell_type": "code",
   "execution_count": 25,
   "metadata": {},
   "outputs": [
    {
     "data": {
      "text/html": [
       "<div>\n",
       "<style scoped>\n",
       "    .dataframe tbody tr th:only-of-type {\n",
       "        vertical-align: middle;\n",
       "    }\n",
       "\n",
       "    .dataframe tbody tr th {\n",
       "        vertical-align: top;\n",
       "    }\n",
       "\n",
       "    .dataframe thead th {\n",
       "        text-align: right;\n",
       "    }\n",
       "</style>\n",
       "<table border=\"1\" class=\"dataframe\">\n",
       "  <thead>\n",
       "    <tr style=\"text-align: right;\">\n",
       "      <th></th>\n",
       "      <th>addresses</th>\n",
       "      <th>addresses_id</th>\n",
       "      <th>addrs_in_ip_tx_id</th>\n",
       "      <th>addrs_in_op_tx_id</th>\n",
       "    </tr>\n",
       "  </thead>\n",
       "  <tbody>\n",
       "    <tr>\n",
       "      <th>0</th>\n",
       "      <td>02b0ab655312f42e7bf52d84e6230ef425b3ac77e64d6e...</td>\n",
       "      <td>0</td>\n",
       "      <td>[0, 1, 2, 6, 10, 11, 12, 18, 19, 20, 21, 23, 2...</td>\n",
       "      <td>[0, 1, 2, 6, 10, 11, 12, 18, 19, 20, 21, 23, 2...</td>\n",
       "    </tr>\n",
       "    <tr>\n",
       "      <th>1</th>\n",
       "      <td>e40876d7c952eaadec3d60fac91fb275410d678dcec423...</td>\n",
       "      <td>1</td>\n",
       "      <td>[5, 2053, 2055, 15, 16, 6160, 8211, 4121, 6169...</td>\n",
       "      <td>[0, 1, 2, 5, 6, 10, 11, 12, 15, 16, 18, 19, 20...</td>\n",
       "    </tr>\n",
       "    <tr>\n",
       "      <th>2</th>\n",
       "      <td>8ca740d1e9fc980a4597f0b07ca973eb19001fb2888c24...</td>\n",
       "      <td>2</td>\n",
       "      <td>[3]</td>\n",
       "      <td>[785]</td>\n",
       "    </tr>\n",
       "    <tr>\n",
       "      <th>3</th>\n",
       "      <td>1d5b9174eaf4ef0231958b30aee0e31279417b0be1c0f0...</td>\n",
       "      <td>3</td>\n",
       "      <td>[]</td>\n",
       "      <td>[785, 3]</td>\n",
       "    </tr>\n",
       "    <tr>\n",
       "      <th>4</th>\n",
       "      <td>3f039e1593f05b83eacbc87288031d714b804d06a1ee75...</td>\n",
       "      <td>4</td>\n",
       "      <td>[]</td>\n",
       "      <td>[3]</td>\n",
       "    </tr>\n",
       "  </tbody>\n",
       "</table>\n",
       "</div>"
      ],
      "text/plain": [
       "                                           addresses  addresses_id  \\\n",
       "0  02b0ab655312f42e7bf52d84e6230ef425b3ac77e64d6e...             0   \n",
       "1  e40876d7c952eaadec3d60fac91fb275410d678dcec423...             1   \n",
       "2  8ca740d1e9fc980a4597f0b07ca973eb19001fb2888c24...             2   \n",
       "3  1d5b9174eaf4ef0231958b30aee0e31279417b0be1c0f0...             3   \n",
       "4  3f039e1593f05b83eacbc87288031d714b804d06a1ee75...             4   \n",
       "\n",
       "                                   addrs_in_ip_tx_id  \\\n",
       "0  [0, 1, 2, 6, 10, 11, 12, 18, 19, 20, 21, 23, 2...   \n",
       "1  [5, 2053, 2055, 15, 16, 6160, 8211, 4121, 6169...   \n",
       "2                                                [3]   \n",
       "3                                                 []   \n",
       "4                                                 []   \n",
       "\n",
       "                                   addrs_in_op_tx_id  \n",
       "0  [0, 1, 2, 6, 10, 11, 12, 18, 19, 20, 21, 23, 2...  \n",
       "1  [0, 1, 2, 5, 6, 10, 11, 12, 15, 16, 18, 19, 20...  \n",
       "2                                              [785]  \n",
       "3                                           [785, 3]  \n",
       "4                                                [3]  "
      ]
     },
     "execution_count": 25,
     "metadata": {},
     "output_type": "execute_result"
    }
   ],
   "source": [
    "addresses_data.head()"
   ]
  },
  {
   "cell_type": "code",
   "execution_count": 26,
   "metadata": {},
   "outputs": [
    {
     "name": "stdout",
     "output_type": "stream",
     "text": [
      "<class 'pandas.core.frame.DataFrame'>\n",
      "RangeIndex: 4580 entries, 0 to 4579\n",
      "Data columns (total 4 columns):\n",
      " #   Column             Non-Null Count  Dtype \n",
      "---  ------             --------------  ----- \n",
      " 0   addresses          4580 non-null   object\n",
      " 1   addresses_id       4580 non-null   int64 \n",
      " 2   addrs_in_ip_tx_id  4580 non-null   object\n",
      " 3   addrs_in_op_tx_id  4580 non-null   object\n",
      "dtypes: int64(1), object(3)\n",
      "memory usage: 143.2+ KB\n"
     ]
    }
   ],
   "source": [
    "addresses_data.info()"
   ]
  },
  {
   "cell_type": "code",
   "execution_count": 27,
   "metadata": {},
   "outputs": [],
   "source": [
    "addresses_data[\"addrs_in_ip_tx_id\"]=addresses_data[\"addrs_in_ip_tx_id\"].apply(eval)\n",
    "addresses_data[\"addrs_in_op_tx_id\"]=addresses_data[\"addrs_in_op_tx_id\"].apply(eval)"
   ]
  },
  {
   "cell_type": "code",
   "execution_count": 28,
   "metadata": {},
   "outputs": [
    {
     "name": "stdout",
     "output_type": "stream",
     "text": [
      "<class 'pandas.core.frame.DataFrame'>\n",
      "RangeIndex: 4580 entries, 0 to 4579\n",
      "Data columns (total 4 columns):\n",
      " #   Column             Non-Null Count  Dtype \n",
      "---  ------             --------------  ----- \n",
      " 0   addresses          4580 non-null   object\n",
      " 1   addresses_id       4580 non-null   int64 \n",
      " 2   addrs_in_ip_tx_id  4580 non-null   object\n",
      " 3   addrs_in_op_tx_id  4580 non-null   object\n",
      "dtypes: int64(1), object(3)\n",
      "memory usage: 143.2+ KB\n"
     ]
    }
   ],
   "source": [
    "addresses_data.info()"
   ]
  },
  {
   "cell_type": "code",
   "execution_count": 29,
   "metadata": {},
   "outputs": [],
   "source": [
    "segregated_iota=pd.read_csv(\"/Users/nidhiagrawal/Desktop/Assignments/MastersProject/Github/Masters_Project/IoTa/logs/generated_files/segregated_iota.csv\")"
   ]
  },
  {
   "cell_type": "code",
   "execution_count": 30,
   "metadata": {},
   "outputs": [
    {
     "data": {
      "text/html": [
       "<div>\n",
       "<style scoped>\n",
       "    .dataframe tbody tr th:only-of-type {\n",
       "        vertical-align: middle;\n",
       "    }\n",
       "\n",
       "    .dataframe tbody tr th {\n",
       "        vertical-align: top;\n",
       "    }\n",
       "\n",
       "    .dataframe thead th {\n",
       "        text-align: right;\n",
       "    }\n",
       "</style>\n",
       "<table border=\"1\" class=\"dataframe\">\n",
       "  <thead>\n",
       "    <tr style=\"text-align: right;\">\n",
       "      <th></th>\n",
       "      <th>tx_unique_id</th>\n",
       "      <th>id_input_addresses_x</th>\n",
       "      <th>id_output_addresses_y</th>\n",
       "      <th>input_amounts_x</th>\n",
       "      <th>output_amounts_y</th>\n",
       "      <th>datetime</th>\n",
       "      <th>num_input_addresses</th>\n",
       "      <th>num_output_addresses</th>\n",
       "      <th>sum_input_amounts</th>\n",
       "      <th>sum_output_amounts</th>\n",
       "      <th>count_repeat_pair</th>\n",
       "      <th>h0</th>\n",
       "      <th>h1</th>\n",
       "    </tr>\n",
       "  </thead>\n",
       "  <tbody>\n",
       "    <tr>\n",
       "      <th>0</th>\n",
       "      <td>0</td>\n",
       "      <td>0</td>\n",
       "      <td>1</td>\n",
       "      <td>1.998896e+06</td>\n",
       "      <td>1</td>\n",
       "      <td>2021-05-04 18:10:29</td>\n",
       "      <td>1</td>\n",
       "      <td>2</td>\n",
       "      <td>1.998896e+06</td>\n",
       "      <td>1.998896e+06</td>\n",
       "      <td>5186</td>\n",
       "      <td>0</td>\n",
       "      <td>0</td>\n",
       "    </tr>\n",
       "    <tr>\n",
       "      <th>1</th>\n",
       "      <td>1</td>\n",
       "      <td>0</td>\n",
       "      <td>1</td>\n",
       "      <td>1.996443e+06</td>\n",
       "      <td>1</td>\n",
       "      <td>2021-05-08 18:25:19</td>\n",
       "      <td>1</td>\n",
       "      <td>2</td>\n",
       "      <td>1.996443e+06</td>\n",
       "      <td>1.996443e+06</td>\n",
       "      <td>5186</td>\n",
       "      <td>0</td>\n",
       "      <td>0</td>\n",
       "    </tr>\n",
       "    <tr>\n",
       "      <th>2</th>\n",
       "      <td>2</td>\n",
       "      <td>0</td>\n",
       "      <td>1</td>\n",
       "      <td>1.996418e+06</td>\n",
       "      <td>1</td>\n",
       "      <td>2021-05-08 18:33:49</td>\n",
       "      <td>1</td>\n",
       "      <td>2</td>\n",
       "      <td>1.996418e+06</td>\n",
       "      <td>1.996418e+06</td>\n",
       "      <td>5186</td>\n",
       "      <td>0</td>\n",
       "      <td>0</td>\n",
       "    </tr>\n",
       "    <tr>\n",
       "      <th>3</th>\n",
       "      <td>3</td>\n",
       "      <td>2</td>\n",
       "      <td>3</td>\n",
       "      <td>6.845083e+09</td>\n",
       "      <td>6000000000</td>\n",
       "      <td>2021-05-02 18:13:59</td>\n",
       "      <td>1</td>\n",
       "      <td>2</td>\n",
       "      <td>6.845083e+09</td>\n",
       "      <td>6.845083e+09</td>\n",
       "      <td>1</td>\n",
       "      <td>0</td>\n",
       "      <td>0</td>\n",
       "    </tr>\n",
       "    <tr>\n",
       "      <th>4</th>\n",
       "      <td>3</td>\n",
       "      <td>2</td>\n",
       "      <td>4</td>\n",
       "      <td>6.845083e+09</td>\n",
       "      <td>845082772</td>\n",
       "      <td>2021-05-02 18:13:59</td>\n",
       "      <td>1</td>\n",
       "      <td>2</td>\n",
       "      <td>6.845083e+09</td>\n",
       "      <td>6.845083e+09</td>\n",
       "      <td>1</td>\n",
       "      <td>0</td>\n",
       "      <td>0</td>\n",
       "    </tr>\n",
       "  </tbody>\n",
       "</table>\n",
       "</div>"
      ],
      "text/plain": [
       "   tx_unique_id  id_input_addresses_x  id_output_addresses_y  input_amounts_x  \\\n",
       "0             0                     0                      1     1.998896e+06   \n",
       "1             1                     0                      1     1.996443e+06   \n",
       "2             2                     0                      1     1.996418e+06   \n",
       "3             3                     2                      3     6.845083e+09   \n",
       "4             3                     2                      4     6.845083e+09   \n",
       "\n",
       "   output_amounts_y             datetime  num_input_addresses  \\\n",
       "0                 1  2021-05-04 18:10:29                    1   \n",
       "1                 1  2021-05-08 18:25:19                    1   \n",
       "2                 1  2021-05-08 18:33:49                    1   \n",
       "3        6000000000  2021-05-02 18:13:59                    1   \n",
       "4         845082772  2021-05-02 18:13:59                    1   \n",
       "\n",
       "   num_output_addresses  sum_input_amounts  sum_output_amounts  \\\n",
       "0                     2       1.998896e+06        1.998896e+06   \n",
       "1                     2       1.996443e+06        1.996443e+06   \n",
       "2                     2       1.996418e+06        1.996418e+06   \n",
       "3                     2       6.845083e+09        6.845083e+09   \n",
       "4                     2       6.845083e+09        6.845083e+09   \n",
       "\n",
       "   count_repeat_pair  h0  h1  \n",
       "0               5186   0   0  \n",
       "1               5186   0   0  \n",
       "2               5186   0   0  \n",
       "3                  1   0   0  \n",
       "4                  1   0   0  "
      ]
     },
     "execution_count": 30,
     "metadata": {},
     "output_type": "execute_result"
    }
   ],
   "source": [
    "segregated_iota.head()"
   ]
  },
  {
   "cell_type": "code",
   "execution_count": 31,
   "metadata": {},
   "outputs": [],
   "source": [
    "#Heuristics0\n",
    "# for index,(input,output) in enumerate(zip(segregated_iota[\"id_input_addresses_x\"],segregated_iota[\"id_output_addresses_y\"])):\n",
    "#     if (len(addresses_data[addresses_data[\"addresses_id\"]==output][\"addrs_in_ip_tx_id\"])==0):\n",
    "#     #if output not in add_map_tx.keys():\n",
    "#         segregated_iota.loc[index,\"h0\"]=0\n",
    "#         #df.loc[index,\"wh0\"]=0\n",
    "#     else:\n",
    "#         if (len(set(addresses_data[addresses_data[\"addresses_id\"]==input][\"addrs_in_ip_tx_id\"].item()).intersection(addresses_data[addresses_data[\"addresses_id\"]==output][\"addrs_in_ip_tx_id\"].item()))!=0):\n",
    "#         #if (len(add_map_tx[input].intersection(add_map_tx[output]))!=0):\n",
    "#             segregated_iota.loc[index,\"h0\"]=1\n",
    "#             #df.loc[index,\"wh0\"]=len(add_map_tx[input].intersection(add_map_tx[output]))\n",
    "#         else:\n",
    "#             segregated_iota.loc[index,\"h0\"]=0\n",
    "#             #df.loc[index,\"wh0\"]=0"
   ]
  },
  {
   "cell_type": "code",
   "execution_count": 32,
   "metadata": {},
   "outputs": [
    {
     "data": {
      "text/plain": [
       "0    10195\n",
       "1       43\n",
       "Name: h0, dtype: int64"
      ]
     },
     "execution_count": 32,
     "metadata": {},
     "output_type": "execute_result"
    }
   ],
   "source": [
    "segregated_iota[\"h0\"].value_counts()"
   ]
  },
  {
   "cell_type": "code",
   "execution_count": 33,
   "metadata": {},
   "outputs": [],
   "source": [
    "from itertools import count\n",
    "\n",
    "class Heuristics:\n",
    "\n",
    "    _ids=count(0)\n",
    "\n",
    "    def __init__(self,input,output,address_data,raw_data):\n",
    "        self.input=input\n",
    "        self.output=output\n",
    "        self.address_data=address_data\n",
    "        self.raw_data=raw_data\n",
    "        self.id = next(self._ids)\n",
    "        # self.raw_data[\"id_input_addresses_x\"]=self.raw_data[\"id_input_addresses_x\"].apply(eval)\n",
    "        # self.raw_data[\"id_output_addresses_y\"]=self.raw_data[\"id_output_addresses_y\"].apply(eval)\n",
    "        # self.raw_data[\"input_amounts_x\"]=self.raw_data[\"input_amounts_x\"].apply(eval)\n",
    "        # self.raw_data[\"output_amounts_y\"]=self.raw_data[\"output_amounts_y\"].apply(eval)\n",
    "        \n",
    "    def heuristic0(self):\n",
    "        if (len(self.address_data[self.address_data[\"addresses_id\"]==self.output][\"addrs_in_ip_tx_id\"])==0):\n",
    "        #if output not in add_map_tx.keys():\n",
    "            #segregated_iota.loc[((segregated_iota[\"id_input_addresses_x\"]==input) & (segregated_iota[\"id_output_addresses_y\"]==output)) | ((segregated_iota[\"id_input_addresses_x\"]==output) & (segregated_iota[\"id_output_addresses_y\"]==input)),\"h0\"]=0\n",
    "            #df.loc[index,\"wh0\"]=0\n",
    "            return 0\n",
    "        else:\n",
    "            if (len(set(self.address_data[self.address_data[\"addresses_id\"]==self.input][\"addrs_in_ip_tx_id\"].item()).intersection(self.address_data[self.address_data[\"addresses_id\"]==self.output][\"addrs_in_ip_tx_id\"].item()))!=0):\n",
    "            #if (len(add_map_tx[input].intersection(add_map_tx[output]))!=0):\n",
    "                #segregated_iota.loc[((segregated_iota[\"id_input_addresses_x\"]==input) & (segregated_iota[\"id_output_addresses_y\"]==output)) | ((segregated_iota[\"id_input_addresses_x\"]==output) & (segregated_iota[\"id_output_addresses_y\"]==input)),\"h0\"]=1\n",
    "                #df.loc[index,\"wh0\"]=len(add_map_tx[input].intersection(add_map_tx[output]))\n",
    "                return 1\n",
    "            else:\n",
    "                #segregated_iota.loc[((segregated_iota[\"id_input_addresses_x\"]==input) & (segregated_iota[\"id_output_addresses_y\"]==output)) | ((segregated_iota[\"id_input_addresses_x\"]==output) & (segregated_iota[\"id_output_addresses_y\"]==input)),\"h0\"]=0\n",
    "                #df.loc[index,\"wh0\"]=0\n",
    "                return 0\n",
    "\n",
    "    def heuristic1(self):\n",
    "        transaction_list=set(self.address_data[self.address_data[\"addresses_id\"]==self.input][\"addrs_in_ip_tx_id\"].item()).intersection(self.address_data[self.address_data[\"addresses_id\"]==self.output][\"addrs_in_op_tx_id\"].item())\n",
    "        for transaction in transaction_list:\n",
    "            #condition 1- (for a single input address), multiple output add---- output amount has to be less than all the input amounts.\n",
    "            #if (len(tranId_to_inpadd[transaction])==1 and len(tranId_to_outadd[transaction])>1):\n",
    "            if (len(self.raw_data[self.raw_data[\"tx_unique_id\"]==transaction][\"id_output_addresses_y\"].item())>1 and len(self.raw_data[self.raw_data[\"tx_unique_id\"]==transaction][\"id_input_addresses_x\"].item())>1):\n",
    "                #if output amount is the smallest of all amounts and less than the smallest input amount\n",
    "                if (self.output==(sorted(self.raw_data[self.raw_data[\"tx_unique_id\"]==transaction][\"output_amounts_y\"].item())[0]) and self.output<(sorted(self.raw_data[self.raw_data[\"tx_unique_id\"]==transaction][\"input_amounts_x\"].item())[0])):   #smaller than the least input amount    \n",
    "                    #condition2- remove the output addresses which have same amounts listed two or more times in the output\n",
    "                    if (Counter(self.raw_data[self.raw_data[\"tx_unique_id\"]==transaction][\"output_amounts_y\"].item())[self.output]==1):\n",
    "                        #segregated_iota.loc[((segregated_iota[\"id_input_addresses_x\"]==self.input) & (segregated_iota[\"id_output_addresses_y\"]==self.output)) | ((segregated_iota[\"id_input_addresses_x\"]==self.output) & (segregated_iota[\"id_output_addresses_y\"]==self.input)),\"h1\"]=1\n",
    "                        return 1\n",
    "                        #break\n",
    "                    else:\n",
    "                        return 0\n",
    "                else:\n",
    "                    #segregated_iota.loc[((segregated_iota[\"id_input_addresses_x\"]==self.input) & (segregated_iota[\"id_output_addresses_y\"]==self.output)) | ((segregated_iota[\"id_input_addresses_x\"]==self.output) & (segregated_iota[\"id_output_addresses_y\"]==self.input)),\"h1\"]=0\n",
    "                    return 0\n",
    "            else:\n",
    "                #segregated_iota.loc[((segregated_iota[\"id_input_addresses_x\"]==self.input) & (segregated_iota[\"id_output_addresses_y\"]==self.output)) | ((segregated_iota[\"id_input_addresses_x\"]==self.output) & (segregated_iota[\"id_output_addresses_y\"]==self.input)),\"h1\"]=0\n",
    "                return 0\n",
    "\n",
    "    def implement_heuritsics(self,segregated_iota):\n",
    "        segregated_iota.loc[self.id,\"h0\"]=self.heuristic0()\n",
    "        segregated_iota.loc[self.id,\"h1\"]=self.heuristic1()\n",
    "        return       "
   ]
  },
  {
   "cell_type": "code",
   "execution_count": 34,
   "metadata": {},
   "outputs": [
    {
     "data": {
      "text/plain": [
       "0        None\n",
       "1        None\n",
       "2        None\n",
       "3        None\n",
       "4        None\n",
       "         ... \n",
       "10233    None\n",
       "10234    None\n",
       "10235    None\n",
       "10236    None\n",
       "10237    None\n",
       "Length: 10238, dtype: object"
      ]
     },
     "execution_count": 34,
     "metadata": {},
     "output_type": "execute_result"
    }
   ],
   "source": [
    "segregated_iota.apply(lambda x: Heuristics(x.id_input_addresses_x, x.id_output_addresses_y,addresses_data,processed_data).implement_heuritsics(segregated_iota), axis=1)"
   ]
  },
  {
   "cell_type": "code",
   "execution_count": 35,
   "metadata": {},
   "outputs": [
    {
     "data": {
      "text/plain": [
       "0    10232\n",
       "1        6\n",
       "Name: h1, dtype: int64"
      ]
     },
     "execution_count": 35,
     "metadata": {},
     "output_type": "execute_result"
    }
   ],
   "source": [
    "segregated_iota[\"h1\"].value_counts()"
   ]
  },
  {
   "cell_type": "code",
   "execution_count": 36,
   "metadata": {},
   "outputs": [
    {
     "name": "stdout",
     "output_type": "stream",
     "text": [
      "<class 'pandas.core.frame.DataFrame'>\n",
      "RangeIndex: 10238 entries, 0 to 10237\n",
      "Data columns (total 13 columns):\n",
      " #   Column                 Non-Null Count  Dtype  \n",
      "---  ------                 --------------  -----  \n",
      " 0   tx_unique_id           10238 non-null  int64  \n",
      " 1   id_input_addresses_x   10238 non-null  int64  \n",
      " 2   id_output_addresses_y  10238 non-null  int64  \n",
      " 3   input_amounts_x        10238 non-null  float64\n",
      " 4   output_amounts_y       10238 non-null  int64  \n",
      " 5   datetime               10238 non-null  object \n",
      " 6   num_input_addresses    10238 non-null  int64  \n",
      " 7   num_output_addresses   10238 non-null  int64  \n",
      " 8   sum_input_amounts      10238 non-null  float64\n",
      " 9   sum_output_amounts     10238 non-null  float64\n",
      " 10  count_repeat_pair      10238 non-null  int64  \n",
      " 11  h0                     10238 non-null  int64  \n",
      " 12  h1                     10238 non-null  int64  \n",
      "dtypes: float64(3), int64(9), object(1)\n",
      "memory usage: 1.0+ MB\n"
     ]
    }
   ],
   "source": [
    "segregated_iota.info()"
   ]
  },
  {
   "cell_type": "code",
   "execution_count": 37,
   "metadata": {},
   "outputs": [
    {
     "data": {
      "text/plain": [
       "0    10195\n",
       "1       43\n",
       "Name: h0, dtype: int64"
      ]
     },
     "execution_count": 37,
     "metadata": {},
     "output_type": "execute_result"
    }
   ],
   "source": [
    "segregated_iota[\"h0\"].value_counts()"
   ]
  }
 ],
 "metadata": {
  "kernelspec": {
   "display_name": "Python 3.10.4 64-bit",
   "language": "python",
   "name": "python3"
  },
  "language_info": {
   "codemirror_mode": {
    "name": "ipython",
    "version": 3
   },
   "file_extension": ".py",
   "mimetype": "text/x-python",
   "name": "python",
   "nbconvert_exporter": "python",
   "pygments_lexer": "ipython3",
   "version": "3.10.4"
  },
  "orig_nbformat": 4,
  "vscode": {
   "interpreter": {
    "hash": "610c699f0cd8c4f129acd9140687fff6866bed0eb8e82f249fc8848b827b628c"
   }
  }
 },
 "nbformat": 4,
 "nbformat_minor": 2
}
