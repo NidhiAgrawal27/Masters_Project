{
 "cells": [
  {
   "cell_type": "code",
   "execution_count": 1,
   "metadata": {},
   "outputs": [],
   "source": [
    "import pandas as pd\n",
    "import numpy as np\n",
    "import pathlib\n",
    "from ast import literal_eval\n",
    "import graph_tool as gt\n",
    "from graph_tool.all import graph_draw\n"
   ]
  },
  {
   "cell_type": "code",
   "execution_count": 2,
   "metadata": {},
   "outputs": [],
   "source": [
    "# df = pd.read_csv(\"../../data/sample_data.csv\",)\n",
    "# df = pd.read_csv(\"../../data/first_14_days_UTXO_txs_of_IOTA.csv\")\n",
    "df = pd.read_csv(\"../../data/chunk.csv\")\n",
    "# df.drop(['message_id', 'milestone_index', 'datetime'], axis=1, inplace=True)\n",
    "df.drop(['Unnamed: 0.1', 'Unnamed: 0', 'block_index', 'timestamp'], axis=1, inplace=True)\n"
   ]
  },
  {
   "cell_type": "code",
   "execution_count": 3,
   "metadata": {},
   "outputs": [],
   "source": [
    "df_unique_tx_id = pd.DataFrame()\n",
    "df_unique_tx_id['transaction_id'] = pd.unique(df[['transaction_id']].values.ravel())\n",
    "df_unique_tx_id['tx_unique_id'] = df_unique_tx_id.index\n",
    "\n",
    "pathlib.Path('../../logs/IoTa_logs/trial_files/').mkdir(parents=True, exist_ok=True)\n",
    "df_unique_tx_id.to_csv('../../logs/IoTa_logs/trial_files/transaction_id.csv', index=False)\n"
   ]
  },
  {
   "cell_type": "code",
   "execution_count": 4,
   "metadata": {},
   "outputs": [
    {
     "name": "stdout",
     "output_type": "stream",
     "text": [
      "(10000000, 5)\n",
      "(10000000, 5)\n"
     ]
    }
   ],
   "source": [
    "df = df.merge(df_unique_tx_id, on='transaction_id', how='left')\n",
    "df.drop(['transaction_id'], axis=1, inplace=True)\n",
    "\n",
    "print(df.shape)\n",
    "df = df[df['input_addresses_x'].str.contains(\"\\[nan|nan,|, nan|nan]\") == False]\n",
    "print(df.shape)\n"
   ]
  },
  {
   "cell_type": "code",
   "execution_count": 5,
   "metadata": {},
   "outputs": [
    {
     "data": {
      "text/html": [
       "<div>\n",
       "<style scoped>\n",
       "    .dataframe tbody tr th:only-of-type {\n",
       "        vertical-align: middle;\n",
       "    }\n",
       "\n",
       "    .dataframe tbody tr th {\n",
       "        vertical-align: top;\n",
       "    }\n",
       "\n",
       "    .dataframe thead th {\n",
       "        text-align: right;\n",
       "    }\n",
       "</style>\n",
       "<table border=\"1\" class=\"dataframe\">\n",
       "  <thead>\n",
       "    <tr style=\"text-align: right;\">\n",
       "      <th></th>\n",
       "      <th>input_addresses_x</th>\n",
       "      <th>input_amounts_x</th>\n",
       "      <th>output_addresses_y</th>\n",
       "      <th>output_amounts_y</th>\n",
       "      <th>tx_unique_id</th>\n",
       "    </tr>\n",
       "  </thead>\n",
       "  <tbody>\n",
       "    <tr>\n",
       "      <th>0</th>\n",
       "      <td>['12cbQLTFMXRnSzktFkuoG3eHoMeFtpTu3S']</td>\n",
       "      <td>[5000000000]</td>\n",
       "      <td>['1Q2TWHE3GMdB6BZKafqwxXtWAWgFt5Jvm3','12cbQLT...</td>\n",
       "      <td>[1000000000,4000000000]</td>\n",
       "      <td>0</td>\n",
       "    </tr>\n",
       "    <tr>\n",
       "      <th>1</th>\n",
       "      <td>['12cbQLTFMXRnSzktFkuoG3eHoMeFtpTu3S']</td>\n",
       "      <td>[4000000000]</td>\n",
       "      <td>['1DUDsfc23Dv9sPMEk5RsrtfzCw5ofi5sVW','12cbQLT...</td>\n",
       "      <td>[1000000000,3000000000]</td>\n",
       "      <td>1</td>\n",
       "    </tr>\n",
       "    <tr>\n",
       "      <th>2</th>\n",
       "      <td>['12cbQLTFMXRnSzktFkuoG3eHoMeFtpTu3S']</td>\n",
       "      <td>[3000000000]</td>\n",
       "      <td>['1LzBzVqEeuQyjD2mRWHes3dgWrT9titxvq','12cbQLT...</td>\n",
       "      <td>[100000000,2900000000]</td>\n",
       "      <td>2</td>\n",
       "    </tr>\n",
       "    <tr>\n",
       "      <th>3</th>\n",
       "      <td>['12cbQLTFMXRnSzktFkuoG3eHoMeFtpTu3S']</td>\n",
       "      <td>[2900000000]</td>\n",
       "      <td>['13HtsYzne8xVPdGDnmJX8gHgBZerAfJGEf','12cbQLT...</td>\n",
       "      <td>[100000000,2800000000]</td>\n",
       "      <td>3</td>\n",
       "    </tr>\n",
       "    <tr>\n",
       "      <th>4</th>\n",
       "      <td>['13HtsYzne8xVPdGDnmJX8gHgBZerAfJGEf']</td>\n",
       "      <td>[100000000]</td>\n",
       "      <td>['15NUwyBYrZcnUgTagsm1A7M2yL2GntpuaZ']</td>\n",
       "      <td>[100000000]</td>\n",
       "      <td>4</td>\n",
       "    </tr>\n",
       "    <tr>\n",
       "      <th>...</th>\n",
       "      <td>...</td>\n",
       "      <td>...</td>\n",
       "      <td>...</td>\n",
       "      <td>...</td>\n",
       "      <td>...</td>\n",
       "    </tr>\n",
       "    <tr>\n",
       "      <th>9999995</th>\n",
       "      <td>['1HHoxHYLEsHpX1XLMufH2u22BnyjBakac5']</td>\n",
       "      <td>[65894581896]</td>\n",
       "      <td>['11D4FWQiGVGnCbvAMPvBZWBX7KMU2ZFsp','18VTbDeQ...</td>\n",
       "      <td>[65894131896,400000]</td>\n",
       "      <td>9999995</td>\n",
       "    </tr>\n",
       "    <tr>\n",
       "      <th>9999996</th>\n",
       "      <td>['19x9YXEtWgWSEnLJprnaRtUm4nSEc7cZoW']</td>\n",
       "      <td>[13384010000]</td>\n",
       "      <td>['1GgretSpZJ3BHzfesyFyCvMQeb5oN4NphF','1Bez92i...</td>\n",
       "      <td>[12384010000,1000000000]</td>\n",
       "      <td>9999996</td>\n",
       "    </tr>\n",
       "    <tr>\n",
       "      <th>9999997</th>\n",
       "      <td>['16DcDa7hNBCxNAug16PpXGYLpkzJvzq1mo']</td>\n",
       "      <td>[8010000000]</td>\n",
       "      <td>['1NBzzPyfbW7MZVsYpajrBVdbutHY3eyTrA','19wPrnM...</td>\n",
       "      <td>[8009460000,490000]</td>\n",
       "      <td>9999997</td>\n",
       "    </tr>\n",
       "    <tr>\n",
       "      <th>9999998</th>\n",
       "      <td>['1AqG4ECFDkm6W6AV3kEmJyFqBr4rCoeXVg']</td>\n",
       "      <td>[1000000000]</td>\n",
       "      <td>['1A7RGNN9oF4UNuoMEw42AqZeMFiXuqCAYP','14W1pPx...</td>\n",
       "      <td>[250000000,500000000,250000000]</td>\n",
       "      <td>9999998</td>\n",
       "    </tr>\n",
       "    <tr>\n",
       "      <th>9999999</th>\n",
       "      <td>['1LBMQQQtfV973AGVyTGvdRrNTBsAm3QbcN']</td>\n",
       "      <td>[3674735265]</td>\n",
       "      <td>['1DdXonBzyoMvse7sHSpgVZWy329dAXy2fg','1ELqaBy...</td>\n",
       "      <td>[3674365265,320000]</td>\n",
       "      <td>9999999</td>\n",
       "    </tr>\n",
       "  </tbody>\n",
       "</table>\n",
       "<p>10000000 rows × 5 columns</p>\n",
       "</div>"
      ],
      "text/plain": [
       "                              input_addresses_x input_amounts_x  \\\n",
       "0        ['12cbQLTFMXRnSzktFkuoG3eHoMeFtpTu3S']    [5000000000]   \n",
       "1        ['12cbQLTFMXRnSzktFkuoG3eHoMeFtpTu3S']    [4000000000]   \n",
       "2        ['12cbQLTFMXRnSzktFkuoG3eHoMeFtpTu3S']    [3000000000]   \n",
       "3        ['12cbQLTFMXRnSzktFkuoG3eHoMeFtpTu3S']    [2900000000]   \n",
       "4        ['13HtsYzne8xVPdGDnmJX8gHgBZerAfJGEf']     [100000000]   \n",
       "...                                         ...             ...   \n",
       "9999995  ['1HHoxHYLEsHpX1XLMufH2u22BnyjBakac5']   [65894581896]   \n",
       "9999996  ['19x9YXEtWgWSEnLJprnaRtUm4nSEc7cZoW']   [13384010000]   \n",
       "9999997  ['16DcDa7hNBCxNAug16PpXGYLpkzJvzq1mo']    [8010000000]   \n",
       "9999998  ['1AqG4ECFDkm6W6AV3kEmJyFqBr4rCoeXVg']    [1000000000]   \n",
       "9999999  ['1LBMQQQtfV973AGVyTGvdRrNTBsAm3QbcN']    [3674735265]   \n",
       "\n",
       "                                        output_addresses_y  \\\n",
       "0        ['1Q2TWHE3GMdB6BZKafqwxXtWAWgFt5Jvm3','12cbQLT...   \n",
       "1        ['1DUDsfc23Dv9sPMEk5RsrtfzCw5ofi5sVW','12cbQLT...   \n",
       "2        ['1LzBzVqEeuQyjD2mRWHes3dgWrT9titxvq','12cbQLT...   \n",
       "3        ['13HtsYzne8xVPdGDnmJX8gHgBZerAfJGEf','12cbQLT...   \n",
       "4                   ['15NUwyBYrZcnUgTagsm1A7M2yL2GntpuaZ']   \n",
       "...                                                    ...   \n",
       "9999995  ['11D4FWQiGVGnCbvAMPvBZWBX7KMU2ZFsp','18VTbDeQ...   \n",
       "9999996  ['1GgretSpZJ3BHzfesyFyCvMQeb5oN4NphF','1Bez92i...   \n",
       "9999997  ['1NBzzPyfbW7MZVsYpajrBVdbutHY3eyTrA','19wPrnM...   \n",
       "9999998  ['1A7RGNN9oF4UNuoMEw42AqZeMFiXuqCAYP','14W1pPx...   \n",
       "9999999  ['1DdXonBzyoMvse7sHSpgVZWy329dAXy2fg','1ELqaBy...   \n",
       "\n",
       "                        output_amounts_y  tx_unique_id  \n",
       "0                [1000000000,4000000000]             0  \n",
       "1                [1000000000,3000000000]             1  \n",
       "2                 [100000000,2900000000]             2  \n",
       "3                 [100000000,2800000000]             3  \n",
       "4                            [100000000]             4  \n",
       "...                                  ...           ...  \n",
       "9999995             [65894131896,400000]       9999995  \n",
       "9999996         [12384010000,1000000000]       9999996  \n",
       "9999997              [8009460000,490000]       9999997  \n",
       "9999998  [250000000,500000000,250000000]       9999998  \n",
       "9999999              [3674365265,320000]       9999999  \n",
       "\n",
       "[10000000 rows x 5 columns]"
      ]
     },
     "execution_count": 5,
     "metadata": {},
     "output_type": "execute_result"
    }
   ],
   "source": [
    "df\n"
   ]
  },
  {
   "cell_type": "code",
   "execution_count": 6,
   "metadata": {},
   "outputs": [],
   "source": [
    "def create_graph(addrs_list, graph):\n",
    "    for a in literal_eval(addrs_list):\n",
    "        print(a)\n",
    "    # graph.add_vertex(literal_eval(addrs_list))\n",
    "\n",
    "    return graph\n"
   ]
  },
  {
   "cell_type": "code",
   "execution_count": 7,
   "metadata": {},
   "outputs": [],
   "source": [
    "\n",
    "# lst = ['a', 'b', 'c']\n",
    "# res = map(int, lst)\n",
    "# print(list(res))\n"
   ]
  },
  {
   "cell_type": "code",
   "execution_count": 8,
   "metadata": {},
   "outputs": [],
   "source": [
    "# # df['input_addresses_x'].apply(eval)\n",
    "# g = gt.Graph(directed=False)\n",
    "# g = df['input_addresses_x'].apply(create_graph, graph = g)\n"
   ]
  },
  {
   "cell_type": "code",
   "execution_count": 9,
   "metadata": {},
   "outputs": [],
   "source": [
    "graph_of_correspondences = gt.Graph( directed=False )\n",
    "nuser_vertex = {}\n",
    "vertex_nuser = graph_of_correspondences.new_vertex_property(\"string\")\n",
    "correspondences = None\n",
    "counter = 0\n",
    "n_users = 0\n"
   ]
  },
  {
   "cell_type": "code",
   "execution_count": 10,
   "metadata": {},
   "outputs": [],
   "source": [
    "def normalise_ls(ls):\n",
    "\n",
    "    ret = []\n",
    "    ls = literal_eval(ls)\n",
    "    if type(ls) == type(1) or type(ls) == np.int32:\n",
    "        ret = [ls]\n",
    "    elif type(ls) == list or type(ls) == set:\n",
    "        ls2 = set()\n",
    "        for i in ls:\n",
    "            if type(i) == type(1) or type(i) == np.int32:\n",
    "                ls2.add(i)\n",
    "            elif type(i) == type(\"\"):\n",
    "                ls2.update(  map(np.int32, [_ for _ in ls]) )\n",
    "\n",
    "        ret = list(ls2)\n",
    "\n",
    "    return ret\n"
   ]
  },
  {
   "cell_type": "code",
   "execution_count": 11,
   "metadata": {},
   "outputs": [],
   "source": [
    "# provide a list of addresses that belong to a user - ls\n",
    "# useful def - adds needed edges\n",
    "from cmath import isnan\n",
    "from operator import lshift\n",
    "\n",
    "\n",
    "def add_correspondence(ls, graph_of_correspondences):\n",
    "    # ls = normalise_ls(ls)\n",
    "    if 'nan' in ls: ls.replace('nan', '0')\n",
    "\n",
    "    ls = set(literal_eval(ls)) # converts string to list form\n",
    "\n",
    "    if '0' in ls: ls.remove('0')\n",
    "\n",
    "    if len(ls) <= 1:\n",
    "        return\n",
    "\n",
    "    # ls = sorted( ls )\n",
    "\n",
    "    for nu in ls :\n",
    "        # if nuser_vertex.has_key(nu):\n",
    "        if nu in nuser_vertex:\n",
    "            continue\n",
    "        v = graph_of_correspondences.add_vertex()\n",
    "        idx = graph_of_correspondences.vertex_index[v]\n",
    "        \n",
    "        # can skip next two lines. every time a new node is added, it won't be mapped to the corrs. network automatically. so these two lines are for this mapping.\n",
    "        \n",
    "        nuser_vertex[nu] = idx\n",
    "        vertex_nuser[ v ] = nu\n",
    "\n",
    "\n",
    "    v0 = nuser_vertex[ls.pop()]\n",
    "\n",
    "\n",
    "    for nu in ls:\n",
    "        v1 = nuser_vertex[nu]\n",
    "        if not graph_of_correspondences.edge(v0,v1):\n",
    "            graph_of_correspondences.add_edge(v0,v1)\n",
    "            # counter += 1\n",
    "            # initialize edge weight to 1\n",
    "\n",
    "        # else edge_weight + = 1 # existing edge so increase weight by 1\n",
    "    \n",
    "    return\n",
    "\n"
   ]
  },
  {
   "cell_type": "code",
   "execution_count": 12,
   "metadata": {},
   "outputs": [
    {
     "data": {
      "text/plain": [
       "0          None\n",
       "1          None\n",
       "2          None\n",
       "3          None\n",
       "4          None\n",
       "           ... \n",
       "9999995    None\n",
       "9999996    None\n",
       "9999997    None\n",
       "9999998    None\n",
       "9999999    None\n",
       "Name: input_addresses_x, Length: 10000000, dtype: object"
      ]
     },
     "execution_count": 12,
     "metadata": {},
     "output_type": "execute_result"
    }
   ],
   "source": [
    "df['input_addresses_x'].apply(add_correspondence, graph_of_correspondences = graph_of_correspondences)\n"
   ]
  },
  {
   "cell_type": "code",
   "execution_count": 13,
   "metadata": {},
   "outputs": [
    {
     "data": {
      "text/plain": [
       "<Graph object, undirected, with 4295966 vertices and 4435829 edges, at 0x1497a79a0>"
      ]
     },
     "execution_count": 13,
     "metadata": {},
     "output_type": "execute_result"
    }
   ],
   "source": [
    "graph_of_correspondences\n"
   ]
  },
  {
   "cell_type": "code",
   "execution_count": 14,
   "metadata": {},
   "outputs": [],
   "source": [
    "# from graph_tool import draw\n",
    "# draw.graph_draw(graph_of_correspondences)\n",
    "\n",
    "# gt.GraphView(g)"
   ]
  },
  {
   "cell_type": "code",
   "execution_count": null,
   "metadata": {},
   "outputs": [],
   "source": []
  }
 ],
 "metadata": {
  "kernelspec": {
   "display_name": "Python 3.9.13 ('master_proj_env')",
   "language": "python",
   "name": "python3"
  },
  "language_info": {
   "codemirror_mode": {
    "name": "ipython",
    "version": 3
   },
   "file_extension": ".py",
   "mimetype": "text/x-python",
   "name": "python",
   "nbconvert_exporter": "python",
   "pygments_lexer": "ipython3",
   "version": "3.9.13"
  },
  "orig_nbformat": 4,
  "vscode": {
   "interpreter": {
    "hash": "875a45e78307f45a0461b9badc45760a50389bed97d6a85e9762505cca779b65"
   }
  }
 },
 "nbformat": 4,
 "nbformat_minor": 2
}
